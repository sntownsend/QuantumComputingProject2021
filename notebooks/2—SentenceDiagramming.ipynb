{
 "cells": [
  {
   "cell_type": "markdown",
   "id": "921402bb",
   "metadata": {},
   "source": [
    "## Generating Sentence Diagrams"
   ]
  },
  {
   "cell_type": "markdown",
   "id": "e18c25ab",
   "metadata": {},
   "source": [
    "### Sentences\n",
    "\n",
    "In English, every sentence consists minimally of a noun phrase (subject) and a verb phrase. In monotransitive sentences, the verb takes a single object. Thus, a sentence could be represented as:\n",
    "\n",
    "\\begin{eqnarray}\n",
    "NVN = N\\bigg (N^r S N^l \\bigg ) N = \\bigg (N N^r\\bigg ) S \\bigg (N N^l\\bigg ) = S\n",
    "\\end{eqnarray}\n",
    "\n",
    "where $N^r$ is the right-adjoint (i.e. the inverse when directly to the right) of a noun-phrase and $N^l$ the left-adjoint (the inverse when directly to the left).\n",
    "\n",
    "For simplicity's sake, this demonstration is limited to pseudo-sentences consisting solely of a monotransitive verb phrase (i.e. a verb and its object):\n",
    "\n",
    "\\begin{equation}\n",
    "VN = \\bigg (SN^l\\bigg )N = S \\bigg (N^l N\\bigg ) = S\n",
    "\\end{equation}\n",
    "\n",
    "Hoffmann's thesis uses some of the following pseudo-sentences: \n",
    "```Python\n",
    "sentences = [\n",
    "    \"file account [1 0] [1.0, 0.0]\",\n",
    "    \"register account [1. 0.] [0.999, 0.051]\",\n",
    "    \"smooth account [0. 1.] [0.047, 0.999]\",\n",
    "    \"file nail [1 0] [1.0, 0.0]\",\n",
    "    \"register nail [0. 1.] [-0.017, 1.0]\",\n",
    "    \n",
    "    \"smooth nail [1. 0.] [1.0, -0.03]\",\n",
    "    \"file charge_n [1 0] [1.0, 0.0]\",\n",
    "```\n",
    "\n"
   ]
  },
  {
   "cell_type": "markdown",
   "id": "b1c3f7e3",
   "metadata": {},
   "source": [
    "### Import packages"
   ]
  },
  {
   "cell_type": "code",
   "execution_count": 1,
   "id": "6d0d2127",
   "metadata": {},
   "outputs": [],
   "source": [
    "from discopy import Ty, Word, Diagram, Id, Cup\n",
    "import spacy"
   ]
  },
  {
   "cell_type": "code",
   "execution_count": null,
   "id": "0208f85a",
   "metadata": {},
   "outputs": [],
   "source": [
    "nlp = spacy.load(\"en_core_web_sm\")"
   ]
  },
  {
   "cell_type": "markdown",
   "id": "85c14453",
   "metadata": {},
   "source": [
    "### To learn how the sentence diagramming step works, let's use spaCy to identify parts of speech. "
   ]
  },
  {
   "cell_type": "markdown",
   "id": "1db49438",
   "metadata": {},
   "source": [
    "### Identify verbs in a sentence\n",
    "This function identifies the verbs in a sentence - if you pass the function getVerbs a string such as \"Gorm ate the possum, which made Kári upset since he hadn't had a chance,\" the function will return a list of verbs from the sentence:\n",
    "[\"ate\", \"made\", \"had\", \"had\"]."
   ]
  },
  {
   "cell_type": "code",
   "execution_count": null,
   "id": "022d3dc4",
   "metadata": {},
   "outputs": [],
   "source": [
    "def getVerbs(string):\n",
    "    vs = []\n",
    "    st = nlp(string)\n",
    "    for t in st:\n",
    "        if t.pos == 100:\n",
    "            vs.append(t.text)\n",
    "        elif t.pos == 87:\n",
    "            vs.append(t.text)\n",
    "    return vs"
   ]
  },
  {
   "cell_type": "markdown",
   "id": "cdf6b0c1",
   "metadata": {},
   "source": [
    "### Identify nouns in a sentence\n",
    "This function identifies the nouns in a sentence. To take the earlier example, the function will return the following list of nouns from the sentence:\n",
    "[\"Gorm\", \"possum\", \"Kári\", \"he\", \"chance\"]."
   ]
  },
  {
   "cell_type": "code",
   "execution_count": null,
   "id": "9610f269",
   "metadata": {},
   "outputs": [],
   "source": [
    "def getNouns(string):\n",
    "    ns = []\n",
    "    st = nlp(string)\n",
    "    for t in st:\n",
    "        if t.pos == 92:\n",
    "            ns.append(t.text)\n",
    "        elif t.pos == 96:\n",
    "            ns.append(t.text)\n",
    "        elif t.pos == 95:\n",
    "            ns.append(t.text)\n",
    "    return ns"
   ]
  },
  {
   "cell_type": "markdown",
   "id": "a443fd8e",
   "metadata": {},
   "source": [
    "### Your turn to try it out\n",
    "Enter a sentence and see if you agree with what is returned."
   ]
  },
  {
   "cell_type": "code",
   "execution_count": null,
   "id": "3636ea62",
   "metadata": {},
   "outputs": [],
   "source": [
    "β = input(\"Enter a full sentence: \")\n",
    "print(\"Verbs: \", getVerbs(β))\n",
    "print(\"Nouns:\", getNouns(β))"
   ]
  },
  {
   "cell_type": "markdown",
   "id": "5f490543",
   "metadata": {},
   "source": [
    "### Diagram a pseudo-sentence"
   ]
  },
  {
   "cell_type": "markdown",
   "id": "a1fd7e5a",
   "metadata": {},
   "source": [
    "In the previous notebook on part-of-speech tagging, spaCy diagrammed sentences as a dependency parse. DisCoPy diagrams sentences to define quantum circuits. The function below takes a pseudo-sentence in the form of a string and uses $\\text{getVerbs}$ and $\\text{getNouns}$ as well as DisCoPy's grammar functionality to create the quantum circuit diagrammatic representation of the pseudo-sentence."
   ]
  },
  {
   "cell_type": "code",
   "execution_count": null,
   "id": "8004183b",
   "metadata": {},
   "outputs": [],
   "source": [
    "def diagram(string):\n",
    "    ns = getNouns(string)\n",
    "    vs = getVerbs(string)\n",
    "    noun = ns[0]\n",
    "    verb = vs[0]\n",
    "    \n",
    "    s, n = Ty('s'), Ty('n')\n",
    "    n_voc = {noun: Word(noun, n)}\n",
    "    v_voc = {verb: Word(verb, s @ n.l)}\n",
    "    \n",
    "    grammar = Id(s) @ Cup(n.l, n)\n",
    "    diagram = v_voc[verb] @ n_voc[noun] >> grammar\n",
    "    parsing = {string: diagram}\n",
    "    return parsing[string].draw(draw_type_labels = True)"
   ]
  },
  {
   "cell_type": "markdown",
   "id": "6859013e",
   "metadata": {},
   "source": [
    "### Diagram your own pseudo-sentence\n",
    "Make sure to provide a phrase with only one verb and one noun, like <em>throw ball</em>"
   ]
  },
  {
   "cell_type": "code",
   "execution_count": null,
   "id": "69729460",
   "metadata": {},
   "outputs": [],
   "source": [
    "x = input(\"Enter a pseudo-sentence: \")\n",
    "diagram(x)"
   ]
  },
  {
   "cell_type": "code",
   "execution_count": null,
   "id": "951f28b6",
   "metadata": {},
   "outputs": [],
   "source": []
  }
 ],
 "metadata": {
  "@webio": {
   "lastCommId": null,
   "lastKernelId": null
  },
  "kernelspec": {
   "display_name": "Python (qnlp-ws)",
   "language": "python",
   "name": "qnlp-ws"
  },
  "language_info": {
   "codemirror_mode": {
    "name": "ipython",
    "version": 3
   },
   "file_extension": ".py",
   "mimetype": "text/x-python",
   "name": "python",
   "nbconvert_exporter": "python",
   "pygments_lexer": "ipython3",
   "version": "3.8.12"
  }
 },
 "nbformat": 4,
 "nbformat_minor": 5
}
