{
 "cells": [
  {
   "cell_type": "markdown",
   "id": "1f198f7d",
   "metadata": {},
   "source": [
    "## Part-of-Speech Tagging\n",
    "### Import Packages"
   ]
  },
  {
   "cell_type": "code",
   "execution_count": null,
   "id": "f9aaad82",
   "metadata": {},
   "outputs": [],
   "source": [
    "import spacy\n",
    "from spacy import displacy"
   ]
  },
  {
   "cell_type": "code",
   "execution_count": null,
   "id": "7fcd12bf",
   "metadata": {},
   "outputs": [],
   "source": [
    "!python -m spacy download en_core_web_sm"
   ]
  },
  {
   "cell_type": "code",
   "execution_count": null,
   "id": "27c7afd8",
   "metadata": {},
   "outputs": [],
   "source": [
    "nlp = spacy.load(\"en_core_web_sm\")"
   ]
  },
  {
   "cell_type": "markdown",
   "id": "d1da81d7",
   "metadata": {},
   "source": [
    "### Parts of Speech\n",
    "English has a wide range of word-types, including nouns, adjectives, verbs, adverbs, and more. This section shows spaCy taking a sentence and assigning parts of speech to each word or other element (such as possessive 's or the n't in don't) it can identify."
   ]
  },
  {
   "cell_type": "code",
   "execution_count": null,
   "id": "13732b9f",
   "metadata": {},
   "outputs": [],
   "source": [
    "doc = nlp(\"Colorless green ideas don't haunt Chomsky\")"
   ]
  },
  {
   "cell_type": "code",
   "execution_count": null,
   "id": "7c457bac",
   "metadata": {},
   "outputs": [],
   "source": [
    "for token in doc:\n",
    "    print(token.text, token.pos_)"
   ]
  },
  {
   "cell_type": "markdown",
   "id": "deb8dece",
   "metadata": {},
   "source": [
    "### spaCy diagrams the sentence using a [dependency parse](https://towardsdatascience.com/natural-language-processing-dependency-parsing-cf094bbbe3f7)"
   ]
  },
  {
   "cell_type": "code",
   "execution_count": null,
   "id": "ebfad2a6",
   "metadata": {},
   "outputs": [],
   "source": [
    "displacy.render(doc, style=\"dep\")"
   ]
  },
  {
   "cell_type": "markdown",
   "id": "37c739be",
   "metadata": {},
   "source": [
    "Without the full sentence, spaCy isn't quite as accurate, unfortunately. As can be seen below, it correctly identifies file as a verb when accompanied by tooth, but mistakes it for a noun when accompanied by account."
   ]
  },
  {
   "cell_type": "code",
   "execution_count": null,
   "id": "6615d407",
   "metadata": {},
   "outputs": [],
   "source": [
    "displacy.render(nlp(\"file tooth\"), style=\"dep\")"
   ]
  },
  {
   "cell_type": "code",
   "execution_count": null,
   "id": "e093963b",
   "metadata": {},
   "outputs": [],
   "source": [
    "displacy.render(nlp(\"file account\"), style=\"dep\")"
   ]
  },
  {
   "cell_type": "markdown",
   "id": "769dc34f",
   "metadata": {},
   "source": [
    "This can, however, be remedied by providing more information, like past tense or an article."
   ]
  },
  {
   "cell_type": "code",
   "execution_count": null,
   "id": "1b9c3d59",
   "metadata": {},
   "outputs": [],
   "source": [
    "displacy.render(nlp(\"filed account\"), style=\"dep\")"
   ]
  },
  {
   "cell_type": "code",
   "execution_count": null,
   "id": "f75349a4",
   "metadata": {},
   "outputs": [],
   "source": [
    "displacy.render(nlp(\"file an account\"), style=\"dep\")"
   ]
  },
  {
   "cell_type": "markdown",
   "id": "d505a98b",
   "metadata": {},
   "source": [
    "### Your sentence"
   ]
  },
  {
   "cell_type": "code",
   "execution_count": null,
   "id": "61fbaca0",
   "metadata": {},
   "outputs": [],
   "source": [
    "x = input(\"Please input a sentence: \")\n",
    "displacy.render(nlp(x), style = \"dep\")"
   ]
  },
  {
   "cell_type": "code",
   "execution_count": null,
   "id": "c8e171e4",
   "metadata": {},
   "outputs": [],
   "source": []
  }
 ],
 "metadata": {
  "@webio": {
   "lastCommId": null,
   "lastKernelId": null
  },
  "kernelspec": {
   "display_name": "Python (qnlp-ws)",
   "language": "python",
   "name": "qnlp-ws"
  },
  "language_info": {
   "codemirror_mode": {
    "name": "ipython",
    "version": 3
   },
   "file_extension": ".py",
   "mimetype": "text/x-python",
   "name": "python",
   "nbconvert_exporter": "python",
   "pygments_lexer": "ipython3",
   "version": "3.8.12"
  }
 },
 "nbformat": 4,
 "nbformat_minor": 5
}
